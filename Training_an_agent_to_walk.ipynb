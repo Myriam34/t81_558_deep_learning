{
  "nbformat": 4,
  "nbformat_minor": 0,
  "metadata": {
    "accelerator": "GPU",
    "colab": {
      "name": "Training_an_agent_to_walk.ipynb",
      "provenance": [],
      "collapsed_sections": []
    },
    "kernelspec": {
      "display_name": "Python 3",
      "name": "python3"
    },
    "language_info": {
      "name": "python"
    }
  },
  "cells": [
    {
      "cell_type": "markdown",
      "metadata": {
        "id": "ssCOanHc8JH_"
      },
      "source": [
        "# Training an agent to walk using RL"
      ]
    },
    {
      "cell_type": "code",
      "metadata": {
        "id": "_sOmCoOrF0F8",
        "cellView": "form"
      },
      "source": [
        "#@title Visualizing agent in initial environment\n",
        "#@markdown ## The agent is in a stand still position\n",
        "\n",
        "from datetime import datetime\n",
        "import functools\n",
        "import os\n",
        "\n",
        "from IPython.display import HTML, clear_output\n",
        "\n",
        "import jax\n",
        "import jax.numpy as jnp\n",
        "import matplotlib.pyplot as plt\n",
        "\n",
        "try:\n",
        "  import brax\n",
        "except ImportError:\n",
        "  !pip install git+https://github.com/google/brax.git@main\n",
        "  clear_output()\n",
        "  import brax\n",
        "\n",
        "from brax import envs\n",
        "from brax import jumpy as jp\n",
        "from brax.training import ppo, sac\n",
        "from brax.io import html\n",
        "from brax.io import model\n",
        "\n",
        "if 'COLAB_TPU_ADDR' in os.environ:\n",
        "  from jax.tools import colab_tpu\n",
        "  colab_tpu.setup_tpu()"
      ],
      "execution_count": null,
      "outputs": []
    },
    {
      "cell_type": "markdown",
      "metadata": {
        "id": "Tm8zbPBcJ5RJ"
      },
      "source": [
        "First let's pick an environment to train an agent:"
      ]
    },
    {
      "cell_type": "code",
      "metadata": {
        "id": "NaJDZqhCLovU",
        "cellView": "form",
        "colab": {
          "base_uri": "https://localhost:8080/",
          "height": 480
        },
        "outputId": "a4db41ec-5807-4ae6-a9ff-30be09f2a224"
      },
      "source": [
        "#@title Preview environment { run: \"auto\" }\n",
        "#@markdown Select the environment to train:\n",
        "\n",
        "env_name = \"humanoid\" #@param [\"ant\", \"humanoid\", \"fetch\", \"grasp\", \"halfcheetah\", \"ur5e\", \"reacher\"]\n",
        "env_fn = envs.create_fn(env_name=env_name)\n",
        "env = env_fn()\n",
        "state = env.reset(rng=jp.random_prngkey(seed=0))\n",
        "\n",
        "HTML(html.render(env.sys, [state.qp]))"
      ],
      "execution_count": null,
      "outputs": [
        {
          "output_type": "execute_result",
          "data": {
            "text/html": [
              "\n",
              "<html>\n",
              "\n",
              "  <head>\n",
              "    <title>brax visualizer</title>\n",
              "    <style>\n",
              "      body {\n",
              "        margin: 0;\n",
              "        padding: 0;\n",
              "      }\n",
              "\n",
              "      #brax-viewer {\n",
              "        margin: 0;\n",
              "        padding: 0;\n",
              "        height: 480px;\n",
              "      }\n",
              "    </style>\n",
              "  </head>\n",
              "\n",
              "  <body>\n",
              "    <script type=\"application/javascript\">\n",
              "    var system = {\"config\": {\"bodies\": [{\"name\": \"torso\", \"colliders\": [{\"position\": {\"x\": 0.0, \"y\": 0.0, \"z\": 0.0}, \"rotation\": {\"x\": -90.0, \"y\": 0.0, \"z\": 0.0}, \"capsule\": {\"radius\": 0.07, \"length\": 0.28, \"end\": 0}}, {\"position\": {\"z\": 0.19, \"x\": 0.0, \"y\": 0.0}, \"capsule\": {\"radius\": 0.09, \"length\": 0.18, \"end\": 0}}, {\"position\": {\"x\": -0.01, \"z\": -0.12, \"y\": 0.0}, \"rotation\": {\"x\": -90.0, \"y\": 0.0, \"z\": 0.0}, \"capsule\": {\"radius\": 0.06, \"length\": 0.24, \"end\": 0}}], \"inertia\": {\"x\": 1.0, \"y\": 1.0, \"z\": 1.0}, \"mass\": 8.907463, \"frozen\": {\"position\": {\"x\": 0.0, \"y\": 0.0, \"z\": 0.0}, \"rotation\": {\"x\": 0.0, \"y\": 0.0, \"z\": 0.0}, \"all\": false}}, {\"name\": \"lwaist\", \"colliders\": [{\"position\": {\"x\": 0.0, \"y\": 0.0, \"z\": 0.0}, \"rotation\": {\"x\": -90.0, \"y\": 0.0, \"z\": 0.0}, \"capsule\": {\"radius\": 0.06, \"length\": 0.24, \"end\": 0}}], \"inertia\": {\"x\": 1.0, \"y\": 1.0, \"z\": 1.0}, \"mass\": 2.2619467, \"frozen\": {\"position\": {\"x\": 0.0, \"y\": 0.0, \"z\": 0.0}, \"rotation\": {\"x\": 0.0, \"y\": 0.0, \"z\": 0.0}, \"all\": false}}, {\"name\": \"pelvis\", \"colliders\": [{\"position\": {\"x\": -0.02, \"y\": 0.0, \"z\": 0.0}, \"rotation\": {\"x\": -90.0, \"y\": 0.0, \"z\": 0.0}, \"capsule\": {\"radius\": 0.09, \"length\": 0.32, \"end\": 0}}], \"inertia\": {\"x\": 1.0, \"y\": 1.0, \"z\": 1.0}, \"mass\": 6.6161942, \"frozen\": {\"position\": {\"x\": 0.0, \"y\": 0.0, \"z\": 0.0}, \"rotation\": {\"x\": 0.0, \"y\": 0.0, \"z\": 0.0}, \"all\": false}}, {\"name\": \"right_thigh\", \"colliders\": [{\"position\": {\"y\": 0.005, \"z\": -0.17, \"x\": 0.0}, \"rotation\": {\"x\": -178.31532, \"y\": 0.0, \"z\": 0.0}, \"capsule\": {\"radius\": 0.06, \"length\": 0.46014702, \"end\": 0}}], \"inertia\": {\"x\": 1.0, \"y\": 1.0, \"z\": 1.0}, \"mass\": 4.751751, \"frozen\": {\"position\": {\"x\": 0.0, \"y\": 0.0, \"z\": 0.0}, \"rotation\": {\"x\": 0.0, \"y\": 0.0, \"z\": 0.0}, \"all\": false}}, {\"name\": \"right_shin\", \"colliders\": [{\"position\": {\"z\": -0.15, \"x\": 0.0, \"y\": 0.0}, \"rotation\": {\"x\": -180.0, \"y\": 0.0, \"z\": 0.0}, \"capsule\": {\"radius\": 0.049, \"length\": 0.398, \"end\": -1}}, {\"position\": {\"z\": -0.35, \"x\": 0.0, \"y\": 0.0}, \"capsule\": {\"radius\": 0.075, \"length\": 0.15, \"end\": 1}}], \"inertia\": {\"x\": 1.0, \"y\": 1.0, \"z\": 1.0}, \"mass\": 4.522842, \"frozen\": {\"position\": {\"x\": 0.0, \"y\": 0.0, \"z\": 0.0}, \"rotation\": {\"x\": 0.0, \"y\": 0.0, \"z\": 0.0}, \"all\": false}}, {\"name\": \"left_thigh\", \"colliders\": [{\"position\": {\"y\": -0.005, \"z\": -0.17, \"x\": 0.0}, \"rotation\": {\"x\": 178.31532, \"y\": 0.0, \"z\": 0.0}, \"capsule\": {\"radius\": 0.06, \"length\": 0.46014702, \"end\": 0}}], \"inertia\": {\"x\": 1.0, \"y\": 1.0, \"z\": 1.0}, \"mass\": 4.751751, \"frozen\": {\"position\": {\"x\": 0.0, \"y\": 0.0, \"z\": 0.0}, \"rotation\": {\"x\": 0.0, \"y\": 0.0, \"z\": 0.0}, \"all\": false}}, {\"name\": \"left_shin\", \"colliders\": [{\"position\": {\"z\": -0.15, \"x\": 0.0, \"y\": 0.0}, \"rotation\": {\"x\": -180.0, \"y\": 0.0, \"z\": 0.0}, \"capsule\": {\"radius\": 0.049, \"length\": 0.398, \"end\": -1}}, {\"position\": {\"z\": -0.35, \"x\": 0.0, \"y\": 0.0}, \"capsule\": {\"radius\": 0.075, \"length\": 0.15, \"end\": 1}}], \"inertia\": {\"x\": 1.0, \"y\": 1.0, \"z\": 1.0}, \"mass\": 4.522842, \"frozen\": {\"position\": {\"x\": 0.0, \"y\": 0.0, \"z\": 0.0}, \"rotation\": {\"x\": 0.0, \"y\": 0.0, \"z\": 0.0}, \"all\": false}}, {\"name\": \"right_upper_arm\", \"colliders\": [{\"position\": {\"x\": 0.08, \"y\": -0.08, \"z\": -0.08}, \"rotation\": {\"x\": 135.0, \"y\": 35.26439, \"z\": -75.0}, \"capsule\": {\"radius\": 0.04, \"length\": 0.35712814, \"end\": 0}}], \"inertia\": {\"x\": 1.0, \"y\": 1.0, \"z\": 1.0}, \"mass\": 1.6610805, \"frozen\": {\"position\": {\"x\": 0.0, \"y\": 0.0, \"z\": 0.0}, \"rotation\": {\"x\": 0.0, \"y\": 0.0, \"z\": 0.0}, \"all\": false}}, {\"name\": \"right_lower_arm\", \"colliders\": [{\"position\": {\"x\": 0.09, \"y\": 0.09, \"z\": 0.09}, \"rotation\": {\"x\": -45.0, \"y\": 35.26439, \"z\": 15.0}, \"capsule\": {\"radius\": 0.031, \"length\": 0.33912814, \"end\": 0}}, {\"position\": {\"x\": 0.18, \"y\": 0.18, \"z\": 0.18}, \"capsule\": {\"radius\": 0.04, \"length\": 0.08, \"end\": 0}}], \"inertia\": {\"x\": 1.0, \"y\": 1.0, \"z\": 1.0}, \"mass\": 1.2295402, \"frozen\": {\"position\": {\"x\": 0.0, \"y\": 0.0, \"z\": 0.0}, \"rotation\": {\"x\": 0.0, \"y\": 0.0, \"z\": 0.0}, \"all\": false}}, {\"name\": \"left_upper_arm\", \"colliders\": [{\"position\": {\"x\": 0.08, \"y\": 0.08, \"z\": -0.08}, \"rotation\": {\"x\": -135.0, \"y\": 35.26439, \"z\": 75.0}, \"capsule\": {\"radius\": 0.04, \"length\": 0.35712814, \"end\": 0}}], \"inertia\": {\"x\": 1.0, \"y\": 1.0, \"z\": 1.0}, \"mass\": 1.6610805, \"frozen\": {\"position\": {\"x\": 0.0, \"y\": 0.0, \"z\": 0.0}, \"rotation\": {\"x\": 0.0, \"y\": 0.0, \"z\": 0.0}, \"all\": false}}, {\"name\": \"left_lower_arm\", \"colliders\": [{\"position\": {\"x\": 0.09, \"y\": -0.09, \"z\": 0.09}, \"rotation\": {\"x\": 45.0, \"y\": 35.26439, \"z\": -15.0}, \"capsule\": {\"radius\": 0.031, \"length\": 0.33912814, \"end\": 0}}, {\"position\": {\"x\": 0.18, \"y\": -0.18, \"z\": 0.18}, \"capsule\": {\"radius\": 0.04, \"length\": 0.08, \"end\": 0}}], \"inertia\": {\"x\": 1.0, \"y\": 1.0, \"z\": 1.0}, \"mass\": 1.2295402, \"frozen\": {\"position\": {\"x\": 0.0, \"y\": 0.0, \"z\": 0.0}, \"rotation\": {\"x\": 0.0, \"y\": 0.0, \"z\": 0.0}, \"all\": false}}, {\"name\": \"floor\", \"colliders\": [{\"plane\": {}}], \"inertia\": {\"x\": 1.0, \"y\": 1.0, \"z\": 1.0}, \"mass\": 1.0, \"frozen\": {\"position\": {\"x\": 1.0, \"y\": 1.0, \"z\": 1.0}, \"rotation\": {\"x\": 1.0, \"y\": 1.0, \"z\": 1.0}, \"all\": true}}], \"joints\": [{\"name\": \"abdomen_z\", \"stiffness\": 15000.0, \"parent\": \"torso\", \"child\": \"lwaist\", \"parentOffset\": {\"x\": -0.01, \"z\": -0.195, \"y\": 0.0}, \"childOffset\": {\"z\": 0.065, \"x\": 0.0, \"y\": 0.0}, \"rotation\": {\"y\": -90.0, \"x\": 0.0, \"z\": 0.0}, \"angularDamping\": 20.0, \"angleLimit\": [{\"min\": -45.0, \"max\": 45.0}, {\"min\": -75.0, \"max\": 30.0}]}, {\"name\": \"abdomen_x\", \"stiffness\": 15000.0, \"parent\": \"lwaist\", \"child\": \"pelvis\", \"parentOffset\": {\"z\": -0.065, \"x\": 0.0, \"y\": 0.0}, \"childOffset\": {\"z\": 0.1, \"x\": 0.0, \"y\": 0.0}, \"rotation\": {\"x\": 90.0, \"y\": 0.0, \"z\": 0.0}, \"angularDamping\": 20.0, \"angleLimit\": [{\"min\": -35.0, \"max\": 35.0}]}, {\"name\": \"right_hip_x\", \"stiffness\": 8000.0, \"parent\": \"pelvis\", \"child\": \"right_thigh\", \"parentOffset\": {\"y\": -0.1, \"z\": -0.04, \"x\": 0.0}, \"childOffset\": {\"x\": 0.0, \"y\": 0.0, \"z\": 0.0}, \"rotation\": {\"x\": 0.0, \"y\": 0.0, \"z\": 0.0}, \"angularDamping\": 20.0, \"angleLimit\": [{\"min\": -10.0, \"max\": 10.0}, {\"min\": -30.0, \"max\": 70.0}, {\"min\": -10.0, \"max\": 10.0}], \"limitStrength\": 2000.0}, {\"name\": \"right_knee\", \"stiffness\": 15000.0, \"parent\": \"right_thigh\", \"child\": \"right_shin\", \"parentOffset\": {\"y\": 0.01, \"z\": -0.383, \"x\": 0.0}, \"childOffset\": {\"z\": 0.02, \"x\": 0.0, \"y\": 0.0}, \"rotation\": {\"z\": -90.0, \"x\": 0.0, \"y\": 0.0}, \"angularDamping\": 20.0, \"angleLimit\": [{\"min\": -160.0, \"max\": -2.0}]}, {\"name\": \"left_hip_x\", \"stiffness\": 8000.0, \"parent\": \"pelvis\", \"child\": \"left_thigh\", \"parentOffset\": {\"y\": 0.1, \"z\": -0.04, \"x\": 0.0}, \"childOffset\": {\"x\": 0.0, \"y\": 0.0, \"z\": 0.0}, \"angularDamping\": 20.0, \"angleLimit\": [{\"min\": -10.0, \"max\": 10.0}, {\"min\": -30.0, \"max\": 70.0}, {\"min\": -10.0, \"max\": 10.0}], \"limitStrength\": 2000.0}, {\"name\": \"left_knee\", \"stiffness\": 15000.0, \"parent\": \"left_thigh\", \"child\": \"left_shin\", \"parentOffset\": {\"y\": -0.01, \"z\": -0.383, \"x\": 0.0}, \"childOffset\": {\"z\": 0.02, \"x\": 0.0, \"y\": 0.0}, \"rotation\": {\"z\": -90.0, \"x\": 0.0, \"y\": 0.0}, \"angularDamping\": 20.0, \"angleLimit\": [{\"min\": -160.0, \"max\": -2.0}]}, {\"name\": \"right_shoulder1\", \"stiffness\": 15000.0, \"parent\": \"torso\", \"child\": \"right_upper_arm\", \"parentOffset\": {\"y\": -0.17, \"z\": 0.06, \"x\": 0.0}, \"childOffset\": {\"x\": 0.0, \"y\": 0.0, \"z\": 0.0}, \"rotation\": {\"x\": 135.0, \"y\": 35.26439, \"z\": 0.0}, \"angularDamping\": 20.0, \"angleLimit\": [{\"min\": -85.0, \"max\": 60.0}, {\"min\": -85.0, \"max\": 60.0}], \"limitStrength\": 1000.0}, {\"name\": \"right_elbow\", \"stiffness\": 15000.0, \"parent\": \"right_upper_arm\", \"child\": \"right_lower_arm\", \"parentOffset\": {\"x\": 0.18, \"y\": -0.18, \"z\": -0.18}, \"childOffset\": {\"x\": 0.0, \"y\": 0.0, \"z\": 0.0}, \"rotation\": {\"x\": 135.0, \"z\": 90.0, \"y\": 0.0}, \"angularDamping\": 20.0, \"angleLimit\": [{\"min\": -90.0, \"max\": 50.0}]}, {\"name\": \"left_shoulder1\", \"stiffness\": 15000.0, \"parent\": \"torso\", \"child\": \"left_upper_arm\", \"parentOffset\": {\"y\": 0.17, \"z\": 0.06, \"x\": 0.0}, \"childOffset\": {\"x\": 0.0, \"y\": 0.0, \"z\": 0.0}, \"rotation\": {\"x\": 45.0, \"y\": -35.26439, \"z\": 0.0}, \"angularDamping\": 20.0, \"angleLimit\": [{\"min\": -60.0, \"max\": 85.0}, {\"min\": -60.0, \"max\": 85.0}], \"limitStrength\": 1000.0}, {\"name\": \"left_elbow\", \"stiffness\": 15000.0, \"parent\": \"left_upper_arm\", \"child\": \"left_lower_arm\", \"parentOffset\": {\"x\": 0.18, \"y\": 0.18, \"z\": -0.18}, \"childOffset\": {\"x\": 0.0, \"y\": 0.0, \"z\": 0.0}, \"rotation\": {\"x\": 45.0, \"z\": -90.0, \"y\": 0.0}, \"angularDamping\": 20.0, \"angleLimit\": [{\"min\": -90.0, \"max\": 50.0}]}], \"actuators\": [{\"name\": \"abdomen_z\", \"joint\": \"abdomen_z\", \"strength\": 350.0, \"torque\": {}}, {\"name\": \"abdomen_x\", \"joint\": \"abdomen_x\", \"strength\": 350.0, \"torque\": {}}, {\"name\": \"right_hip_x\", \"joint\": \"right_hip_x\", \"strength\": 350.0, \"torque\": {}}, {\"name\": \"right_knee\", \"joint\": \"right_knee\", \"strength\": 350.0, \"torque\": {}}, {\"name\": \"left_hip_x\", \"joint\": \"left_hip_x\", \"strength\": 350.0, \"torque\": {}}, {\"name\": \"left_knee\", \"joint\": \"left_knee\", \"strength\": 350.0, \"torque\": {}}, {\"name\": \"right_shoulder1\", \"joint\": \"right_shoulder1\", \"strength\": 100.0, \"torque\": {}}, {\"name\": \"right_elbow\", \"joint\": \"right_elbow\", \"strength\": 100.0, \"torque\": {}}, {\"name\": \"left_shoulder1\", \"joint\": \"left_shoulder1\", \"strength\": 100.0, \"torque\": {}}, {\"name\": \"left_elbow\", \"joint\": \"left_elbow\", \"strength\": 100.0, \"torque\": {}}], \"friction\": 1.0, \"gravity\": {\"z\": -9.81, \"x\": 0.0, \"y\": 0.0}, \"angularDamping\": -0.05, \"baumgarteErp\": 0.1, \"collideInclude\": [{\"first\": \"floor\", \"second\": \"left_shin\"}, {\"first\": \"floor\", \"second\": \"right_shin\"}], \"dt\": 0.015, \"substeps\": 8, \"frozen\": {\"all\": false}, \"defaults\": [{\"angles\": [{\"name\": \"left_knee\", \"angle\": {\"x\": -25.0, \"y\": 0.0, \"z\": 0.0}}, {\"name\": \"right_knee\", \"angle\": {\"x\": -25.0, \"y\": 0.0, \"z\": 0.0}}], \"qps\": []}], \"elasticity\": 0.0, \"velocityDamping\": 0.0, \"colliderCutoff\": 0}, \"pos\": [[[0.0, 0.0, 1.2457497404908353], [0.015446159645371323, -0.0002500339873912049, 0.9909381254973699], [0.08004297753382587, -0.0005908219352426745, 0.8391090158646011], [0.09483575797312936, -0.10062299653894044, 0.8020315575182213], [0.11171665268327877, -0.09091380256845111, 0.4011454813827522], [0.09657072270102238, 0.09936874950279154, 0.8025724869639188], [0.10946766246748561, 0.08853570299187043, 0.4015195037661088], [0.0, -0.17000000178813934, 1.3057497391497308], [0.11589445590573136, -0.41655082459179826, 1.1541543085130677], [0.0, 0.17000000178813934, 1.3057497391497308], [0.11508048093454051, 0.4149139376275118, 1.1509154578541962], [0.0, 0.0, 0.0]]], \"rot\": [[[1.0, 0.0, 0.0, 0.0], [0.9798297022687228, -0.0009814656723724632, -0.1997739190332483, -0.004813787616528817], [0.9798300865340965, 0.00045852531520617105, -0.19978077779566708, -0.004520188102079503], [0.9994749984833531, -0.0002745212822726056, -0.031311924686749606, -0.008319580348678012], [0.9827792980692598, 0.001523008343118161, 0.18459566762895682, -0.008183594851855894], [0.9996223992268847, -0.000998726179238819, -0.02659088916249923, -0.006854642474470935], [0.982468732361591, 0.0004797282130238346, 0.186298701966422, -0.006910386260951476], [0.9878337966835553, -0.08307596637091051, 0.024931597792653106, -0.1290782296624679], [0.9546228447325767, -0.0692471656562938, 0.13405186971699495, -0.25676867135347686], [0.9882077964963222, 0.07868671770614276, 0.029029764186517856, 0.12810551975536583], [0.9548046313674097, 0.06559307939507003, 0.1382332503778391, 0.25482784844830964], [1.0, 0.0, 0.0, 0.0]]]};\n",
              "    </script>\n",
              "\n",
              "    <div id=\"brax-viewer\"></div>\n",
              "\n",
              "    <script type=\"module\">\n",
              "      import {Viewer} from 'https://cdn.jsdelivr.net/gh/google/brax@v0.0.6/js/viewer.js';\n",
              "      const domElement = document.getElementById('brax-viewer');\n",
              "      var viewer = new Viewer(domElement, system);\n",
              "    </script>\n",
              "  </body>\n",
              "</html>\n"
            ],
            "text/plain": [
              "<IPython.core.display.HTML object>"
            ]
          },
          "metadata": {},
          "execution_count": 8
        }
      ]
    },
    {
      "cell_type": "markdown",
      "metadata": {
        "id": "25iky4mITUhh"
      },
      "source": [
        "# Training\n",
        "\n",
        "\n",
        "Trainers take as input an environment function and some hyperparameters, and return an inference\n",
        "function to operate the environment.\n",
        "\n",
        "We can visualize the rewards evolution as the training goes on"
      ]
    },
    {
      "cell_type": "code",
      "metadata": {
        "id": "gZ-AgH4VVVfF",
        "cellView": "form"
      },
      "source": [
        "#@title Training the agent to walk\n",
        "# We determined some reasonable hyperparameters offline and share them here.\n",
        "train_fn = {\n",
        "  'ant': functools.partial(\n",
        "      ppo.train, num_timesteps = 30000000, log_frequency = 20,\n",
        "      reward_scaling = 10, episode_length = 1000, normalize_observations = True,\n",
        "      action_repeat = 1, unroll_length = 5, num_minibatches = 32,\n",
        "      num_update_epochs = 4, discounting = 0.97, learning_rate = 3e-4,\n",
        "      entropy_cost = 1e-2, num_envs = 2048, batch_size = 1024\n",
        "  ),\n",
        "  'humanoid': functools.partial(\n",
        "      ppo.train, num_timesteps = 50000000, log_frequency = 20,\n",
        "      reward_scaling = 0.1, episode_length = 1000, normalize_observations = True,\n",
        "      action_repeat = 1, unroll_length = 10, num_minibatches = 32,\n",
        "      num_update_epochs = 8, discounting = 0.97, learning_rate = 3e-4,\n",
        "      entropy_cost = 1e-3, num_envs = 2048, batch_size = 1024, seed=1\n",
        "  ),\n",
        "  'fetch': functools.partial(\n",
        "      ppo.train, num_timesteps = 100_000_000, log_frequency = 20,\n",
        "      reward_scaling = 5, episode_length = 1000, normalize_observations = True,\n",
        "      action_repeat = 1, unroll_length = 20, num_minibatches = 32,\n",
        "      num_update_epochs = 4, discounting = 0.997, learning_rate = 3e-4,\n",
        "      entropy_cost = 0.001, num_envs = 2048, batch_size = 256\n",
        "  ),\n",
        "  'grasp': functools.partial(\n",
        "      ppo.train, num_timesteps = 600_000_000, log_frequency = 10,\n",
        "      reward_scaling = 10, episode_length = 1000, normalize_observations = True,\n",
        "      action_repeat = 1, unroll_length = 20, num_minibatches = 32,\n",
        "      num_update_epochs = 2, discounting = 0.99, learning_rate = 3e-4,\n",
        "      entropy_cost = 0.001, num_envs = 2048, batch_size = 256\n",
        "  ),\n",
        "  'halfcheetah': functools.partial(\n",
        "      ppo.train, num_timesteps = 100_000_000, log_frequency = 10,\n",
        "      reward_scaling = 1, episode_length = 1000, normalize_observations = True,\n",
        "      action_repeat = 1, unroll_length = 20, num_minibatches = 32,\n",
        "      num_update_epochs = 8, discounting = 0.95, learning_rate = 3e-4,\n",
        "      entropy_cost = 0.001, num_envs = 2048, batch_size = 512\n",
        "  ),\n",
        "  'ur5e': functools.partial(\n",
        "      ppo.train, num_timesteps = 20_000_000, log_frequency = 20,\n",
        "      reward_scaling = 10, episode_length = 1000, normalize_observations = True,\n",
        "      action_repeat = 1, unroll_length = 5, num_minibatches = 32,\n",
        "      num_update_epochs = 4, discounting = 0.95, learning_rate = 2e-4,\n",
        "      entropy_cost = 1e-2, num_envs = 2048, batch_size = 1024,\n",
        "      max_devices_per_host = 8\n",
        "  ),\n",
        "  'reacher': functools.partial(\n",
        "      ppo.train, num_timesteps = 100_000_000, log_frequency = 20,\n",
        "      reward_scaling = 5, episode_length = 1000, normalize_observations = True,\n",
        "      action_repeat = 4, unroll_length = 50, num_minibatches = 32,\n",
        "      num_update_epochs = 8, discounting = 0.95, learning_rate = 3e-4,\n",
        "      entropy_cost = 1e-3, num_envs = 2048, batch_size = 256,\n",
        "      max_devices_per_host = 8, seed = 1),\n",
        "}[env_name]\n",
        "max_y = {'ant': 6000, \n",
        "         'humanoid': 12000, \n",
        "         'fetch': 15, \n",
        "         'grasp': 100, \n",
        "         'halfcheetah': 8000,\n",
        "         'ur5e': 10,\n",
        "         'reacher': 5}[env_name]\n",
        "\n",
        "min_y = {'reacher': -100}.get(env_name, 0)\n",
        "\n",
        "xdata = []\n",
        "ydata = []\n",
        "times = [datetime.now()]\n",
        "\n",
        "def progress(num_steps, metrics):\n",
        "  times.append(datetime.now())\n",
        "  xdata.append(num_steps)\n",
        "  ydata.append(metrics['eval/episode_reward'])\n",
        "  clear_output(wait=True)\n",
        "  plt.xlim([0, train_fn.keywords['num_timesteps']])\n",
        "  plt.ylim([min_y, max_y])\n",
        "  plt.xlabel('# environment steps')\n",
        "  plt.ylabel('reward per episode')\n",
        "  plt.plot(xdata, ydata)\n",
        "  plt.show()\n",
        "\n",
        "inference_fn, params, _ = train_fn(environment_fn=env_fn, progress_fn=progress)\n",
        "\n",
        "print(f'time to jit: {times[1] - times[0]}')\n",
        "print(f'time to train: {times[-1] - times[1]}')"
      ],
      "execution_count": null,
      "outputs": []
    },
    {
      "cell_type": "markdown",
      "metadata": {
        "id": "FGPyeF8Jsj_M"
      },
      "source": [
        "The trainers return an inference function, parameters, and the final set of metrics gathered during evaluation.\n",
        "\n",
        "# Saving and Loading Policies"
      ]
    },
    {
      "cell_type": "code",
      "metadata": {
        "id": "fgB52sgjDhvi",
        "cellView": "form"
      },
      "source": [
        "#@title saving policies \n",
        "\n",
        "model.save_params('/tmp/params', params)\n",
        "empty_params, inference_fn = ppo.make_params_and_inference_fn(\n",
        "    env.observation_size, env.action_size, True)\n",
        "params = model.load_params('/tmp/params', empty_params)"
      ],
      "execution_count": null,
      "outputs": []
    },
    {
      "cell_type": "markdown",
      "metadata": {
        "id": "uUs9hbUKIH71"
      },
      "source": [
        "# Visualizing a Policy's Behavior\n",
        "\n",
        "We can use the policy to generate a rollout for visualization:"
      ]
    },
    {
      "cell_type": "code",
      "metadata": {
        "id": "RNMLEyaTspEM",
        "cellView": "form"
      },
      "source": [
        "#@title Visualizing a trajectory of the learned inference function\n",
        "\n",
        "jit_env_reset = jax.jit(env.reset)\n",
        "jit_env_step = jax.jit(env.step)\n",
        "jit_inference_fn = jax.jit(inference_fn)\n",
        "\n",
        "rollout = []\n",
        "rng = jax.random.PRNGKey(seed=0)\n",
        "state = jit_env_reset(rng=rng)\n",
        "while not state.done:\n",
        "  rollout.append(state)\n",
        "  act_rng, rng = jax.random.split(rng)\n",
        "  act = jit_inference_fn(params, state.obs, act_rng)\n",
        "  state = jit_env_step(state, act)\n",
        "\n",
        "HTML(html.render(env.sys, [s.qp for s in rollout]))"
      ],
      "execution_count": null,
      "outputs": []
    }
  ]
}